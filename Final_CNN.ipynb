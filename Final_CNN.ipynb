{
  "cells": [
    {
      "cell_type": "code",
      "execution_count": 3,
      "metadata": {
        "id": "c-670Ms8zjcr"
      },
      "outputs": [],
      "source": [
        "import torch.nn as nn\n",
        "import torch, torch.optim\n",
        "import torchvision.transforms as transform\n",
        "import torch.nn.functional as F\n",
        "import matplotlib.pyplot as plt\n",
        "import numpy as np\n",
        "\n",
        "from torch.utils.data import DataLoader\n",
        "from torch.optim import Adam\n",
        "from torch.optim import lr_scheduler\n",
        "from torchvision.transforms.functional import to_tensor\n",
        "from torch.utils.data import TensorDataset, DataLoader\n",
        "import torchvision.models as models\n",
        "\n",
        "import os\n",
        "import cv2\n",
        "import numpy as np\n",
        "import matplotlib.pyplot as plt # For displaying images\n",
        "from sklearn.preprocessing import LabelEncoder\n",
        "from sklearn.model_selection import train_test_split\n"
      ]
    },
    {
      "cell_type": "code",
      "execution_count": 4,
      "metadata": {
        "id": "3AaJH6Onzmxb"
      },
      "outputs": [],
      "source": [
        "torch.manual_seed(42)\n",
        "np.random.seed(42)"
      ]
    },
    {
      "cell_type": "code",
      "execution_count": 5,
      "metadata": {
        "colab": {
          "base_uri": "https://localhost:8080/"
        },
        "id": "AS0bJvaAzu7P",
        "outputId": "5c5bf8ab-4ce1-48a4-86e2-62a6ada82c3f"
      },
      "outputs": [
        {
          "data": {
            "text/plain": [
              "device(type='cuda')"
            ]
          },
          "execution_count": 5,
          "metadata": {},
          "output_type": "execute_result"
        }
      ],
      "source": [
        "device = torch.device(\"cuda\" if torch.cuda.is_available() else \"cpu\")\n",
        "device"
      ]
    },
    {
      "cell_type": "code",
      "execution_count": 6,
      "metadata": {
        "colab": {
          "base_uri": "https://localhost:8080/"
        },
        "id": "-ihEK8Auz_3X",
        "outputId": "6714ddbd-1051-42c4-903a-83adf0f8ab88"
      },
      "outputs": [
        {
          "name": "stdout",
          "output_type": "stream",
          "text": [
            "Path to dataset files: /kaggle/input/brain-tumor-mri-scans\n"
          ]
        }
      ],
      "source": [
        "import kagglehub\n",
        "\n",
        "# Download latest version\n",
        "path = kagglehub.dataset_download(\"rm1000/brain-tumor-mri-scans\")\n",
        "\n",
        "print(\"Path to dataset files:\", path)"
      ]
    },
    {
      "cell_type": "code",
      "execution_count": 7,
      "metadata": {
        "colab": {
          "base_uri": "https://localhost:8080/"
        },
        "id": "RxKzjYEMz5NG",
        "outputId": "2b1fa4fb-6e81-411f-ef4c-43c700506e28"
      },
      "outputs": [
        {
          "name": "stdout",
          "output_type": "stream",
          "text": [
            "--- Step 1: Loading and Resizing Images ---\n",
            "Processing folder: /kaggle/input/brain-tumor-mri-scans/glioma\n",
            "Processing folder: /kaggle/input/brain-tumor-mri-scans/healthy\n",
            "Processing folder: /kaggle/input/brain-tumor-mri-scans/meningioma\n",
            "Processing folder: /kaggle/input/brain-tumor-mri-scans/pituitary\n",
            "\n",
            "Loaded 7023 images.\n",
            "Loaded 7023 labels.\n",
            "Shape of image array: (7023, 128, 128, 1)\n",
            "Shape of label array: (7023,)\n"
          ]
        }
      ],
      "source": [
        "import os\n",
        "import cv2\n",
        "import numpy as np\n",
        "\n",
        "# Define the base path to your dataset\n",
        "dataset_base_path = '/kaggle/input/brain-tumor-mri-scans'\n",
        "\n",
        "# List of your class names (folder names)\n",
        "class_names = [ 'glioma','healthy', 'meningioma', 'pituitary']\n",
        "\n",
        "# Initialize lists to store image data and corresponding labels\n",
        "all_images = []\n",
        "all_labels = []\n",
        "\n",
        "# Define the target size for resizing images\n",
        "TARGET_SIZE = (128, 128) # As you used in your code\n",
        "\n",
        "print(\"--- Step 1: Loading and Resizing Images ---\")\n",
        "\n",
        "# Loop through each class (folder)\n",
        "for class_name in class_names:\n",
        "    # Construct the full path to the class folder\n",
        "    class_folder_path = os.path.join(dataset_base_path, class_name)\n",
        "    print(f\"Processing folder: {class_folder_path}\")\n",
        "\n",
        "    # Check if the folder exists\n",
        "    if not os.path.exists(class_folder_path):\n",
        "        print(f\"Warning: Folder '{class_folder_path}' not found. Skipping.\")\n",
        "        continue\n",
        "\n",
        "    # Loop through each item in the current class folder\n",
        "    for item_name in os.listdir(class_folder_path):\n",
        "        item_path = os.path.join(class_folder_path, item_name)\n",
        "\n",
        "        # Check if the item is a file and ends with an image extension\n",
        "        if os.path.isfile(item_path) and item_name.lower().endswith(('.jpg', '.jpeg', '.png', '.bmp')):\n",
        "            image = cv2.imread(item_path, 0) # Read in grayscale (0)\n",
        "\n",
        "            if image is not None:\n",
        "                # Resize the image to the TARGET_SIZE\n",
        "                image = cv2.resize(image, TARGET_SIZE)\n",
        "                image = image / 255.0  # Normalize to [0, 1]\n",
        "                image = image.astype(np.float32)\n",
        "                # Add a channel dimension for grayscale images (height, width, 1)\n",
        "                image = np.expand_dims(image, axis=-1)\n",
        "                all_images.append(image)\n",
        "                all_labels.append(class_name)\n",
        "            else:\n",
        "                print(f\"Warning: Could not load image {item_path}. Skipping.\")\n",
        "        else:\n",
        "            # Optionally, you can add a print statement here to see what non-image files are being skipped\n",
        "            # print(f\"Skipping non-image file/folder: {item_path}\")\n",
        "            pass\n",
        "\n",
        "print(f\"\\nLoaded {len(all_images)} images.\")\n",
        "print(f\"Loaded {len(all_labels)} labels.\")\n",
        "\n",
        "# You can now convert all_images and all_labels to NumPy arrays\n",
        "# For further processing like training an ML model\n",
        "all_images_np = np.array(all_images)\n",
        "all_labels_np = np.array(all_labels)\n",
        "\n",
        "print(f\"Shape of image array: {all_images_np.shape}\")\n",
        "print(f\"Shape of label array: {all_labels_np.shape}\")"
      ]
    },
    {
      "cell_type": "code",
      "execution_count": 8,
      "metadata": {
        "colab": {
          "base_uri": "https://localhost:8080/"
        },
        "id": "AEWo9ERi1ISW",
        "outputId": "13a34a9b-5e56-4752-a3ca-cc61c9eabe20"
      },
      "outputs": [
        {
          "data": {
            "text/plain": [
              "dtype('float32')"
            ]
          },
          "execution_count": 8,
          "metadata": {},
          "output_type": "execute_result"
        }
      ],
      "source": [
        "X = all_images_np\n",
        "y = all_labels_np\n",
        "X.dtype"
      ]
    },
    {
      "cell_type": "code",
      "execution_count": 9,
      "metadata": {
        "colab": {
          "base_uri": "https://localhost:8080/"
        },
        "id": "oNY3Hnaj1dJZ",
        "outputId": "5dfa4e84-98b2-469b-8303-0c5d0154d886"
      },
      "outputs": [
        {
          "name": "stdout",
          "output_type": "stream",
          "text": [
            "torch.Size([5618, 1, 128, 128])\n",
            "torch.Size([1405, 1, 128, 128])\n"
          ]
        }
      ],
      "source": [
        "label_encoder = LabelEncoder()\n",
        "y_encoded = label_encoder.fit_transform(y)\n",
        "\n",
        "X_train, X_test, y_train, y_test = train_test_split(\n",
        "    X, y_encoded, test_size=0.2, random_state=42, stratify=y_encoded\n",
        ")\n",
        "\n",
        "X_train = torch.from_numpy(X_train)\n",
        "X_test = torch.from_numpy(X_test)\n",
        "y_train = torch.from_numpy(y_train)\n",
        "y_test = torch.from_numpy(y_test)\n",
        "\n",
        "if X_train.dim() == 3:\n",
        "        X_train = X_train.unsqueeze(1)\n",
        "if X_test.dim() == 3:\n",
        "        X_test = X_test.unsqueeze(1)\n",
        "\n",
        "\n",
        "X_train = X_train.permute(0, 3, 1, 2) # Becomes (N, 1, H, W)\n",
        "X_test = X_test.permute(0, 3, 1, 2)   # Becomes (N, 1, H, W)\n",
        "\n",
        "print(X_train.shape)\n",
        "print(X_test.shape)\n",
        "\n",
        "\n",
        " # --- Create PyTorch DataLoaders ---\n",
        "batch_size = 64 # Define your desired batch size\n",
        "\n"
      ]
    },
    {
      "cell_type": "code",
      "execution_count": 10,
      "metadata": {
        "colab": {
          "base_uri": "https://localhost:8080/"
        },
        "id": "ytcZuwZEFJfM",
        "outputId": "a2b972ab-78e8-4866-9989-189e23f27cbd"
      },
      "outputs": [
        {
          "name": "stdout",
          "output_type": "stream",
          "text": [
            "Calculated Mean: 0.1868, Std: 0.2030\n"
          ]
        }
      ],
      "source": [
        "import torchvision.transforms as transforms\n",
        "# In a new cell before defining transforms:\n",
        "# Calculate mean and std from the training data\n",
        "# Note: X_train is (N, C, H, W) where C=1\n",
        "\n",
        "# Ensure X_train is on CPU for numpy operations if it's on GPU\n",
        "X_train_cpu = X_train.cpu().numpy()\n",
        "\n",
        "# Normalize the raw data to [0, 1] first if not already\n",
        "# In your case, it's already done before converting to tensor (image = image / 255.0)\n",
        "# So, we'll use the [0,1] scaled data directly.\n",
        "\n",
        "mean = X_train_cpu.mean()\n",
        "std = X_train_cpu.std()\n",
        "\n",
        "print(f\"Calculated Mean: {mean:.4f}, Std: {std:.4f}\")\n",
        "\n",
        "# Update your transforms with these calculated values\n",
        "# For grayscale, it's a list with one value: [mean], [std]\n",
        "train_transform = transforms.Compose([\n",
        "    transforms.ToPILImage(),\n",
        "    transforms.RandomRotation(15),\n",
        "    transforms.RandomHorizontalFlip(),\n",
        "    transforms.RandomVerticalFlip(),\n",
        "    transforms.RandomResizedCrop(128, scale=(0.8, 1.0)),\n",
        "    transforms.RandomAffine(degrees=0, translate=(0.1, 0.1), scale=(0.9, 1.1), shear=10), # Added\n",
        "    transforms.ToTensor(),\n",
        "    transforms.Normalize(mean=[mean], std=[std])\n",
        "])\n",
        "\n",
        "test_transform = transforms.Compose([\n",
        "    transforms.ToPILImage(),\n",
        "    transforms.ToTensor(),\n",
        "    transforms.Normalize(mean=[mean], std=[std])\n",
        "])\n"
      ]
    },
    {
      "cell_type": "code",
      "execution_count": 12,
      "metadata": {
        "colab": {
          "base_uri": "https://localhost:8080/"
        },
        "id": "8CzCCAKDHo8q",
        "outputId": "adde348c-289f-43e3-8ea7-c966c42cb559"
      },
      "outputs": [
        {
          "name": "stdout",
          "output_type": "stream",
          "text": [
            "Shapes after creating DataLoaders (first batch example):\n",
            "Train Batch Image Shape: torch.Size([64, 1, 128, 128]), Labels Shape: torch.Size([64])\n",
            "Test Batch Image Shape: torch.Size([64, 1, 128, 128]), Labels Shape: torch.Size([64])\n"
          ]
        }
      ],
      "source": [
        "class CustomTensorDataset(TensorDataset):\n",
        "    def __init__(self, data, targets, transform=None):\n",
        "        self.data = data\n",
        "        self.targets = targets\n",
        "        self.transform = transform\n",
        "\n",
        "    def __getitem__(self, index):\n",
        "        x = self.data[index]\n",
        "        y = self.targets[index]\n",
        "\n",
        "        # Apply transform if provided\n",
        "        if self.transform:\n",
        "            # transforms.ToPILImage expects (C, H, W) or (H, W, C) input.\n",
        "            # Your X_train/X_test are (N, 1, H, W). Squeeze the channel for ToPILImage.\n",
        "            # Then unsqueeze it back after ToTensor().\n",
        "            x = self.transform(x.squeeze(0)) # Squeeze channel dimension for ToPILImage\n",
        "             # Add channel dimension back if ToTensor removes it for grayscale\n",
        "\n",
        "        return x, y\n",
        "\n",
        "    def __len__(self):\n",
        "        return len(self.data)\n",
        "\n",
        "# Create TensorDatasets with the transforms\n",
        "train_dataset = CustomTensorDataset(X_train, y_train, transform=train_transform)\n",
        "test_dataset = CustomTensorDataset(X_test, y_test, transform=test_transform)\n",
        "\n",
        "# Create DataLoaders\n",
        "batch_size = 64\n",
        "train_loader = DataLoader(train_dataset, batch_size=batch_size, shuffle=True)\n",
        "test_loader = DataLoader(test_dataset, batch_size=batch_size, shuffle=False)\n",
        "\n",
        "print(f\"Shapes after creating DataLoaders (first batch example):\")\n",
        "for images, labels in train_loader:\n",
        "    print(f\"Train Batch Image Shape: {images.shape}, Labels Shape: {labels.shape}\")\n",
        "    break\n",
        "for images, labels in test_loader:\n",
        "    print(f\"Test Batch Image Shape: {images.shape}, Labels Shape: {labels.shape}\")\n",
        "    break"
      ]
    },
    {
      "cell_type": "code",
      "execution_count": 13,
      "metadata": {
        "colab": {
          "base_uri": "https://localhost:8080/"
        },
        "id": "qEyju87_1h83",
        "outputId": "cb04cc87-d208-4488-8c8d-66001d22a3fd"
      },
      "outputs": [
        {
          "name": "stdout",
          "output_type": "stream",
          "text": [
            "Using device: cuda\n",
            "Frozen pre-trained resnet18 features (except fc and conv1).\n",
            "Only the final layer and the modified conv1 layer will be trained initially.\n",
            "\n",
            "Model Architecture:\n",
            " BrainTumorResNet(\n",
            "  (resnet): ResNet(\n",
            "    (conv1): Conv2d(1, 64, kernel_size=(7, 7), stride=(2, 2), padding=(3, 3), bias=False)\n",
            "    (bn1): BatchNorm2d(64, eps=1e-05, momentum=0.1, affine=True, track_running_stats=True)\n",
            "    (relu): ReLU(inplace=True)\n",
            "    (maxpool): MaxPool2d(kernel_size=3, stride=2, padding=1, dilation=1, ceil_mode=False)\n",
            "    (layer1): Sequential(\n",
            "      (0): BasicBlock(\n",
            "        (conv1): Conv2d(64, 64, kernel_size=(3, 3), stride=(1, 1), padding=(1, 1), bias=False)\n",
            "        (bn1): BatchNorm2d(64, eps=1e-05, momentum=0.1, affine=True, track_running_stats=True)\n",
            "        (relu): ReLU(inplace=True)\n",
            "        (conv2): Conv2d(64, 64, kernel_size=(3, 3), stride=(1, 1), padding=(1, 1), bias=False)\n",
            "        (bn2): BatchNorm2d(64, eps=1e-05, momentum=0.1, affine=True, track_running_stats=True)\n",
            "      )\n",
            "      (1): BasicBlock(\n",
            "        (conv1): Conv2d(64, 64, kernel_size=(3, 3), stride=(1, 1), padding=(1, 1), bias=False)\n",
            "        (bn1): BatchNorm2d(64, eps=1e-05, momentum=0.1, affine=True, track_running_stats=True)\n",
            "        (relu): ReLU(inplace=True)\n",
            "        (conv2): Conv2d(64, 64, kernel_size=(3, 3), stride=(1, 1), padding=(1, 1), bias=False)\n",
            "        (bn2): BatchNorm2d(64, eps=1e-05, momentum=0.1, affine=True, track_running_stats=True)\n",
            "      )\n",
            "    )\n",
            "    (layer2): Sequential(\n",
            "      (0): BasicBlock(\n",
            "        (conv1): Conv2d(64, 128, kernel_size=(3, 3), stride=(2, 2), padding=(1, 1), bias=False)\n",
            "        (bn1): BatchNorm2d(128, eps=1e-05, momentum=0.1, affine=True, track_running_stats=True)\n",
            "        (relu): ReLU(inplace=True)\n",
            "        (conv2): Conv2d(128, 128, kernel_size=(3, 3), stride=(1, 1), padding=(1, 1), bias=False)\n",
            "        (bn2): BatchNorm2d(128, eps=1e-05, momentum=0.1, affine=True, track_running_stats=True)\n",
            "        (downsample): Sequential(\n",
            "          (0): Conv2d(64, 128, kernel_size=(1, 1), stride=(2, 2), bias=False)\n",
            "          (1): BatchNorm2d(128, eps=1e-05, momentum=0.1, affine=True, track_running_stats=True)\n",
            "        )\n",
            "      )\n",
            "      (1): BasicBlock(\n",
            "        (conv1): Conv2d(128, 128, kernel_size=(3, 3), stride=(1, 1), padding=(1, 1), bias=False)\n",
            "        (bn1): BatchNorm2d(128, eps=1e-05, momentum=0.1, affine=True, track_running_stats=True)\n",
            "        (relu): ReLU(inplace=True)\n",
            "        (conv2): Conv2d(128, 128, kernel_size=(3, 3), stride=(1, 1), padding=(1, 1), bias=False)\n",
            "        (bn2): BatchNorm2d(128, eps=1e-05, momentum=0.1, affine=True, track_running_stats=True)\n",
            "      )\n",
            "    )\n",
            "    (layer3): Sequential(\n",
            "      (0): BasicBlock(\n",
            "        (conv1): Conv2d(128, 256, kernel_size=(3, 3), stride=(2, 2), padding=(1, 1), bias=False)\n",
            "        (bn1): BatchNorm2d(256, eps=1e-05, momentum=0.1, affine=True, track_running_stats=True)\n",
            "        (relu): ReLU(inplace=True)\n",
            "        (conv2): Conv2d(256, 256, kernel_size=(3, 3), stride=(1, 1), padding=(1, 1), bias=False)\n",
            "        (bn2): BatchNorm2d(256, eps=1e-05, momentum=0.1, affine=True, track_running_stats=True)\n",
            "        (downsample): Sequential(\n",
            "          (0): Conv2d(128, 256, kernel_size=(1, 1), stride=(2, 2), bias=False)\n",
            "          (1): BatchNorm2d(256, eps=1e-05, momentum=0.1, affine=True, track_running_stats=True)\n",
            "        )\n",
            "      )\n",
            "      (1): BasicBlock(\n",
            "        (conv1): Conv2d(256, 256, kernel_size=(3, 3), stride=(1, 1), padding=(1, 1), bias=False)\n",
            "        (bn1): BatchNorm2d(256, eps=1e-05, momentum=0.1, affine=True, track_running_stats=True)\n",
            "        (relu): ReLU(inplace=True)\n",
            "        (conv2): Conv2d(256, 256, kernel_size=(3, 3), stride=(1, 1), padding=(1, 1), bias=False)\n",
            "        (bn2): BatchNorm2d(256, eps=1e-05, momentum=0.1, affine=True, track_running_stats=True)\n",
            "      )\n",
            "    )\n",
            "    (layer4): Sequential(\n",
            "      (0): BasicBlock(\n",
            "        (conv1): Conv2d(256, 512, kernel_size=(3, 3), stride=(2, 2), padding=(1, 1), bias=False)\n",
            "        (bn1): BatchNorm2d(512, eps=1e-05, momentum=0.1, affine=True, track_running_stats=True)\n",
            "        (relu): ReLU(inplace=True)\n",
            "        (conv2): Conv2d(512, 512, kernel_size=(3, 3), stride=(1, 1), padding=(1, 1), bias=False)\n",
            "        (bn2): BatchNorm2d(512, eps=1e-05, momentum=0.1, affine=True, track_running_stats=True)\n",
            "        (downsample): Sequential(\n",
            "          (0): Conv2d(256, 512, kernel_size=(1, 1), stride=(2, 2), bias=False)\n",
            "          (1): BatchNorm2d(512, eps=1e-05, momentum=0.1, affine=True, track_running_stats=True)\n",
            "        )\n",
            "      )\n",
            "      (1): BasicBlock(\n",
            "        (conv1): Conv2d(512, 512, kernel_size=(3, 3), stride=(1, 1), padding=(1, 1), bias=False)\n",
            "        (bn1): BatchNorm2d(512, eps=1e-05, momentum=0.1, affine=True, track_running_stats=True)\n",
            "        (relu): ReLU(inplace=True)\n",
            "        (conv2): Conv2d(512, 512, kernel_size=(3, 3), stride=(1, 1), padding=(1, 1), bias=False)\n",
            "        (bn2): BatchNorm2d(512, eps=1e-05, momentum=0.1, affine=True, track_running_stats=True)\n",
            "      )\n",
            "    )\n",
            "    (avgpool): AdaptiveAvgPool2d(output_size=(1, 1))\n",
            "    (fc): Linear(in_features=512, out_features=4, bias=True)\n",
            "  )\n",
            "  (dropout): Dropout(p=0.4, inplace=False)\n",
            ")\n",
            "\n",
            "Dummy input shape: torch.Size([1, 1, 128, 128])\n",
            "Output shape (logits for each class): torch.Size([1, 4])\n",
            "\n",
            "Total Trainable Parameters: 4,723,780\n"
          ]
        }
      ],
      "source": [
        "class BrainTumorResNet(nn.Module):\n",
        "    \"\"\"\n",
        "    A Convolutional Neural Network (CNN) for classifying brain MRI scans\n",
        "    into different tumor types (or healthy), leveraging a pre-trained ResNet model.\n",
        "\n",
        "    Input: Grayscale images of size (Batch_Size, 1, 128, 128)\n",
        "    Output: Logits for 4 classes (glioma, healthy, meningioma, pituitary)\n",
        "\n",
        "    Strategy: Transfer Learning (Fine-tuning)\n",
        "    - Loads a pre-trained ResNet model (e.g., ResNet18).\n",
        "    - Modifies the first convolutional layer to accept 1 grayscale channel.\n",
        "    - Replaces the final fully connected layer to output 'num_classes'.\n",
        "    - Offers an option to freeze early layers for initial feature extraction.\n",
        "    \"\"\"\n",
        "    def __init__(self, num_classes=4, model_name='resnet18', freeze_features=True):\n",
        "        \"\"\"\n",
        "        Initializes the ResNet-based CNN.\n",
        "\n",
        "        Args:\n",
        "            num_classes (int): The number of output classes for classification.\n",
        "            model_name (str): Specifies which ResNet model to use ('resnet18', 'resnet34', 'resnet50').\n",
        "                              ResNet18 is often a good starting point for transfer learning.\n",
        "            freeze_features (bool): If True, freezes the weights of the pre-trained\n",
        "                                    feature extractor layers. Only the new classification\n",
        "                                    head and potentially the modified conv1 will be trained.\n",
        "                                    If False, all layers will be fine-tuned.\n",
        "        \"\"\"\n",
        "        super(BrainTumorResNet, self).__init__()\n",
        "\n",
        "        # 1. Load a pre-trained ResNet model based on model_name\n",
        "        if model_name == 'resnet18':\n",
        "            self.resnet = models.resnet18(weights=models.ResNet18_Weights.IMAGENET1K_V1)\n",
        "        elif model_name == 'resnet34':\n",
        "            self.resnet = models.resnet34(weights=models.ResNet34_Weights.IMAGENET1K_V1)\n",
        "        elif model_name == 'resnet50':\n",
        "            self.resnet = models.resnet50(weights=models.ResNet50_Weights.IMAGENET1K_V1)\n",
        "        else:\n",
        "            raise ValueError(\"Unsupported ResNet model_name. Choose from 'resnet18', 'resnet34', 'resnet50'.\")\n",
        "\n",
        "        # 2. Modify the first convolutional layer for grayscale input (1 channel)\n",
        "        # Original ResNet expects 3 input channels (RGB).\n",
        "        # We need to change it to accept 1 input channel (grayscale).\n",
        "        original_conv1 = self.resnet.conv1\n",
        "        self.resnet.conv1 = nn.Conv2d(\n",
        "            in_channels=1,\n",
        "            out_channels=original_conv1.out_channels,\n",
        "            kernel_size=original_conv1.kernel_size,\n",
        "            stride=original_conv1.stride,\n",
        "            padding=original_conv1.padding,\n",
        "            bias=original_conv1.bias # Keep bias if original had it\n",
        "        )\n",
        "        # Initialize the new conv1 weights by averaging the original 3-channel weights.\n",
        "        # This helps leverage some of the pre-trained knowledge for grayscale input.\n",
        "        with torch.no_grad(): # Perform this operation without tracking gradients\n",
        "            self.resnet.conv1.weight.copy_(original_conv1.weight.mean(dim=1, keepdim=True))\n",
        "\n",
        "\n",
        "        # 3. Freeze all parameters in the feature extractor (optional, based on `freeze_features`)\n",
        "        if freeze_features:\n",
        "            for name, param in self.resnet.named_parameters():\n",
        "                if \"fc\" not in name and \"conv1\" not in name: # Don't freeze fc and new conv1\n",
        "                    param.requires_grad = False\n",
        "            print(f\"Frozen pre-trained {model_name} features (except fc and conv1).\")\n",
        "            print(\"Only the final layer and the modified conv1 layer will be trained initially.\")\n",
        "        else:\n",
        "            # If not freezing, a smaller initial learning rate is usually best.\n",
        "            print(f\"All {model_name} layers will be fine-tuned. Consider a very small learning rate.\")\n",
        "\n",
        "        # 4. Replace the final fully connected layer (classifier)\n",
        "        # ResNet's final layer is `fc`. Get the number of input features to the original fc layer.\n",
        "        num_ftrs = self.resnet.fc.in_features\n",
        "        self.resnet.fc = nn.Linear(num_ftrs, num_classes) # New fully connected layer\n",
        "\n",
        "        # You can add a dropout layer here if desired, before the final fc layer\n",
        "        # It's common to have it in the classification head, especially if not fine-tuning\n",
        "        self.dropout = nn.Dropout(0.4) # Example: added dropout\n",
        "\n",
        "    def forward(self, x):\n",
        "        \"\"\"\n",
        "        Defines the forward pass of the CNN.\n",
        "\n",
        "        Args:\n",
        "            x (torch.Tensor): The input tensor (image batch) of shape (N, 1, H, W).\n",
        "\n",
        "        Returns:\n",
        "            torch.Tensor: The output logits for each class.\n",
        "        \"\"\"\n",
        "        # Pass the input through the modified ResNet model\n",
        "        x = self.resnet(x)\n",
        "        x = self.dropout(x) # Apply dropout before final classification\n",
        "        return x\n",
        "\n",
        "# --- Example Usage (for testing the model's shape) ---\n",
        "if __name__ == \"__main__\":\n",
        "    device = torch.device(\"cuda\" if torch.cuda.is_available() else \"cpu\")\n",
        "    print(f\"Using device: {device}\")\n",
        "\n",
        "    # Instantiate the model with 4 classes, using ResNet18, initially freezing features\n",
        "    model = BrainTumorResNet(num_classes=4, model_name='resnet18', freeze_features=True)\n",
        "    model.to(device)\n",
        "    print(\"\\nModel Architecture:\\n\", model)\n",
        "\n",
        "    # Create a dummy input tensor (batch size of 1, 1 channel, 128x128 image)\n",
        "    dummy_input = torch.randn(1, 1, 128, 128).to(device)\n",
        "    print(f\"\\nDummy input shape: {dummy_input.shape}\")\n",
        "\n",
        "    # Pass the dummy input through the model\n",
        "    output = model(dummy_input)\n",
        "    print(f\"Output shape (logits for each class): {output.shape}\")\n",
        "\n",
        "    # Calculate and print total trainable parameters\n",
        "    total_params = sum(p.numel() for p in model.parameters() if p.requires_grad)\n",
        "    print(f\"\\nTotal Trainable Parameters: {total_params:,}\")\n",
        "\n",
        "    # Example of how to unfreeze layers for fine-tuning after initial training\n",
        "    # (This would typically happen after a few epochs of training with frozen features)\n",
        "    # print(\"\\nUnfreezing all layers for fine-tuning...\")\n",
        "    # for param in model.resnet.parameters():\n",
        "    #     param.requires_grad = True\n",
        "    # print(\"All layers are now trainable.\")\n",
        "\n",
        "    # total_params_unfrozen = sum(p.numel() for p in model.parameters() if p.requires_grad)\n",
        "    # print(f\"Total Trainable Parameters (unfrozen): {total_params_unfrozen:,}\")\n"
      ]
    },
    {
      "cell_type": "code",
      "execution_count": 14,
      "metadata": {
        "colab": {
          "base_uri": "https://localhost:8080/"
        },
        "id": "3JV6Dqe5L2Kk",
        "outputId": "2b218635-dda1-48df-8cef-f1677eb11c45"
      },
      "outputs": [
        {
          "name": "stdout",
          "output_type": "stream",
          "text": [
            "Frozen pre-trained resnet18 features (except fc and conv1).\n",
            "Only the final layer and the modified conv1 layer will be trained initially.\n"
          ]
        },
        {
          "data": {
            "text/plain": [
              "BrainTumorResNet(\n",
              "  (resnet): ResNet(\n",
              "    (conv1): Conv2d(1, 64, kernel_size=(7, 7), stride=(2, 2), padding=(3, 3), bias=False)\n",
              "    (bn1): BatchNorm2d(64, eps=1e-05, momentum=0.1, affine=True, track_running_stats=True)\n",
              "    (relu): ReLU(inplace=True)\n",
              "    (maxpool): MaxPool2d(kernel_size=3, stride=2, padding=1, dilation=1, ceil_mode=False)\n",
              "    (layer1): Sequential(\n",
              "      (0): BasicBlock(\n",
              "        (conv1): Conv2d(64, 64, kernel_size=(3, 3), stride=(1, 1), padding=(1, 1), bias=False)\n",
              "        (bn1): BatchNorm2d(64, eps=1e-05, momentum=0.1, affine=True, track_running_stats=True)\n",
              "        (relu): ReLU(inplace=True)\n",
              "        (conv2): Conv2d(64, 64, kernel_size=(3, 3), stride=(1, 1), padding=(1, 1), bias=False)\n",
              "        (bn2): BatchNorm2d(64, eps=1e-05, momentum=0.1, affine=True, track_running_stats=True)\n",
              "      )\n",
              "      (1): BasicBlock(\n",
              "        (conv1): Conv2d(64, 64, kernel_size=(3, 3), stride=(1, 1), padding=(1, 1), bias=False)\n",
              "        (bn1): BatchNorm2d(64, eps=1e-05, momentum=0.1, affine=True, track_running_stats=True)\n",
              "        (relu): ReLU(inplace=True)\n",
              "        (conv2): Conv2d(64, 64, kernel_size=(3, 3), stride=(1, 1), padding=(1, 1), bias=False)\n",
              "        (bn2): BatchNorm2d(64, eps=1e-05, momentum=0.1, affine=True, track_running_stats=True)\n",
              "      )\n",
              "    )\n",
              "    (layer2): Sequential(\n",
              "      (0): BasicBlock(\n",
              "        (conv1): Conv2d(64, 128, kernel_size=(3, 3), stride=(2, 2), padding=(1, 1), bias=False)\n",
              "        (bn1): BatchNorm2d(128, eps=1e-05, momentum=0.1, affine=True, track_running_stats=True)\n",
              "        (relu): ReLU(inplace=True)\n",
              "        (conv2): Conv2d(128, 128, kernel_size=(3, 3), stride=(1, 1), padding=(1, 1), bias=False)\n",
              "        (bn2): BatchNorm2d(128, eps=1e-05, momentum=0.1, affine=True, track_running_stats=True)\n",
              "        (downsample): Sequential(\n",
              "          (0): Conv2d(64, 128, kernel_size=(1, 1), stride=(2, 2), bias=False)\n",
              "          (1): BatchNorm2d(128, eps=1e-05, momentum=0.1, affine=True, track_running_stats=True)\n",
              "        )\n",
              "      )\n",
              "      (1): BasicBlock(\n",
              "        (conv1): Conv2d(128, 128, kernel_size=(3, 3), stride=(1, 1), padding=(1, 1), bias=False)\n",
              "        (bn1): BatchNorm2d(128, eps=1e-05, momentum=0.1, affine=True, track_running_stats=True)\n",
              "        (relu): ReLU(inplace=True)\n",
              "        (conv2): Conv2d(128, 128, kernel_size=(3, 3), stride=(1, 1), padding=(1, 1), bias=False)\n",
              "        (bn2): BatchNorm2d(128, eps=1e-05, momentum=0.1, affine=True, track_running_stats=True)\n",
              "      )\n",
              "    )\n",
              "    (layer3): Sequential(\n",
              "      (0): BasicBlock(\n",
              "        (conv1): Conv2d(128, 256, kernel_size=(3, 3), stride=(2, 2), padding=(1, 1), bias=False)\n",
              "        (bn1): BatchNorm2d(256, eps=1e-05, momentum=0.1, affine=True, track_running_stats=True)\n",
              "        (relu): ReLU(inplace=True)\n",
              "        (conv2): Conv2d(256, 256, kernel_size=(3, 3), stride=(1, 1), padding=(1, 1), bias=False)\n",
              "        (bn2): BatchNorm2d(256, eps=1e-05, momentum=0.1, affine=True, track_running_stats=True)\n",
              "        (downsample): Sequential(\n",
              "          (0): Conv2d(128, 256, kernel_size=(1, 1), stride=(2, 2), bias=False)\n",
              "          (1): BatchNorm2d(256, eps=1e-05, momentum=0.1, affine=True, track_running_stats=True)\n",
              "        )\n",
              "      )\n",
              "      (1): BasicBlock(\n",
              "        (conv1): Conv2d(256, 256, kernel_size=(3, 3), stride=(1, 1), padding=(1, 1), bias=False)\n",
              "        (bn1): BatchNorm2d(256, eps=1e-05, momentum=0.1, affine=True, track_running_stats=True)\n",
              "        (relu): ReLU(inplace=True)\n",
              "        (conv2): Conv2d(256, 256, kernel_size=(3, 3), stride=(1, 1), padding=(1, 1), bias=False)\n",
              "        (bn2): BatchNorm2d(256, eps=1e-05, momentum=0.1, affine=True, track_running_stats=True)\n",
              "      )\n",
              "    )\n",
              "    (layer4): Sequential(\n",
              "      (0): BasicBlock(\n",
              "        (conv1): Conv2d(256, 512, kernel_size=(3, 3), stride=(2, 2), padding=(1, 1), bias=False)\n",
              "        (bn1): BatchNorm2d(512, eps=1e-05, momentum=0.1, affine=True, track_running_stats=True)\n",
              "        (relu): ReLU(inplace=True)\n",
              "        (conv2): Conv2d(512, 512, kernel_size=(3, 3), stride=(1, 1), padding=(1, 1), bias=False)\n",
              "        (bn2): BatchNorm2d(512, eps=1e-05, momentum=0.1, affine=True, track_running_stats=True)\n",
              "        (downsample): Sequential(\n",
              "          (0): Conv2d(256, 512, kernel_size=(1, 1), stride=(2, 2), bias=False)\n",
              "          (1): BatchNorm2d(512, eps=1e-05, momentum=0.1, affine=True, track_running_stats=True)\n",
              "        )\n",
              "      )\n",
              "      (1): BasicBlock(\n",
              "        (conv1): Conv2d(512, 512, kernel_size=(3, 3), stride=(1, 1), padding=(1, 1), bias=False)\n",
              "        (bn1): BatchNorm2d(512, eps=1e-05, momentum=0.1, affine=True, track_running_stats=True)\n",
              "        (relu): ReLU(inplace=True)\n",
              "        (conv2): Conv2d(512, 512, kernel_size=(3, 3), stride=(1, 1), padding=(1, 1), bias=False)\n",
              "        (bn2): BatchNorm2d(512, eps=1e-05, momentum=0.1, affine=True, track_running_stats=True)\n",
              "      )\n",
              "    )\n",
              "    (avgpool): AdaptiveAvgPool2d(output_size=(1, 1))\n",
              "    (fc): Linear(in_features=512, out_features=4, bias=True)\n",
              "  )\n",
              "  (dropout): Dropout(p=0.4, inplace=False)\n",
              ")"
            ]
          },
          "execution_count": 14,
          "metadata": {},
          "output_type": "execute_result"
        }
      ],
      "source": [
        "model = BrainTumorResNet(num_classes=4)\n",
        "model.to(device)"
      ]
    },
    {
      "cell_type": "code",
      "execution_count": 15,
      "metadata": {
        "colab": {
          "base_uri": "https://localhost:8080/"
        },
        "id": "fb2EOko-A5CJ",
        "outputId": "d21bfc1f-31c3-43e5-8c9e-d4e99a3e843e"
      },
      "outputs": [
        {
          "name": "stdout",
          "output_type": "stream",
          "text": [
            "\n",
            "Total Trainable Parameters: 4,723,780\n"
          ]
        }
      ],
      "source": [
        "# Calculate and print total trainable parameters\n",
        "total_params = sum(p.numel() for p in model.parameters() if p.requires_grad)\n",
        "print(f\"\\nTotal Trainable Parameters: {total_params:,}\")"
      ]
    },
    {
      "cell_type": "code",
      "execution_count": 16,
      "metadata": {
        "id": "9ojfAd0oA8JS"
      },
      "outputs": [],
      "source": [
        "NUM_EPOCHS = 30\n",
        "# TODO: Define loss function:\n",
        "criterion = nn.CrossEntropyLoss()\n",
        "# TODO: Create optimizer:\n",
        "optimizer = torch.optim.Adam(model.parameters(), lr=0.0001, weight_decay=0.001)\n",
        "#optimizer = torch.optim.AdamW(model.parameters(), lr=0.001, weight_decay=0.01)\n",
        "#optimizer = torch.optim.SGD(model.parameters(), lr=LEARNING_RATE, momentum=0.9)\n",
        "\n",
        "#scheduler = lr_scheduler.ReduceLROnPlateau(optimizer, mode='min', factor=0.1, patience=5)\n",
        "total_steps = NUM_EPOCHS * len(train_loader)\n",
        "scheduler = lr_scheduler.OneCycleLR(optimizer, max_lr=0.01, total_steps=total_steps) # Experiment with max_lr"
      ]
    },
    {
      "cell_type": "code",
      "execution_count": 19,
      "metadata": {
        "id": "seAt8NN4Ckip"
      },
      "outputs": [],
      "source": [
        "# Re-define the evaluate function if it's not already defined as a standalone function\n",
        "from sklearn.metrics import classification_report, confusion_matrix, ConfusionMatrixDisplay\n",
        "\n",
        "def evaluate(model, data_loader, criterion, device, class_names): # Added class_names for report\n",
        "    model.eval()  # Set model to evaluation mode\n",
        "    total_test_loss = 0.0\n",
        "    correct_predictions = 0\n",
        "    all_labels = []\n",
        "    all_predictions = []\n",
        "    with torch.no_grad():\n",
        "        for images, labels in data_loader:\n",
        "            images = images.to(device)\n",
        "            labels = labels.to(device)\n",
        "            outputs = model(images)\n",
        "            loss = criterion(outputs, labels)\n",
        "            total_test_loss += loss.item()\n",
        "            _, predicted = torch.max(outputs.data, 1)\n",
        "            correct_predictions += (predicted == labels).sum().item()\n",
        "            all_labels.extend(labels.cpu().numpy())\n",
        "            all_predictions.extend(predicted.cpu().numpy())\n",
        "\n",
        "    avg_loss = total_test_loss / len(data_loader)\n",
        "    accuracy = correct_predictions / len(data_loader.dataset)\n",
        "\n",
        "    # You can choose to print the full report/matrix only at the very end\n",
        "    # Or for every epoch if you want detailed monitoring\n",
        "    # For now, we'll return just loss and accuracy from this function\n",
        "    return avg_loss, accuracy, all_labels, all_predictions # Return all_labels and all_predictions too"
      ]
    },
    {
      "cell_type": "code",
      "execution_count": 20,
      "metadata": {
        "colab": {
          "base_uri": "https://localhost:8080/"
        },
        "id": "Ly0Fv5d-YuEx",
        "outputId": "b8c90d02-1347-4252-f36a-6886fac927c5"
      },
      "outputs": [
        {
          "name": "stdout",
          "output_type": "stream",
          "text": [
            "Frozen pre-trained resnet18 features (except fc and conv1).\n",
            "Only the final layer and the modified conv1 layer will be trained initially.\n"
          ]
        }
      ],
      "source": [
        "model = BrainTumorResNet(num_classes=4, model_name='resnet18', freeze_features=True) # Initial setup for Phase 1\n",
        "model.to(device)\n",
        "criterion = nn.CrossEntropyLoss()"
      ]
    },
    {
      "cell_type": "code",
      "execution_count": 21,
      "metadata": {
        "colab": {
          "base_uri": "https://localhost:8080/",
          "height": 1000
        },
        "id": "x4FXPIsmYzCM",
        "outputId": "a3cac978-678c-4655-b934-c975013bea03"
      },
      "outputs": [
        {
          "name": "stdout",
          "output_type": "stream",
          "text": [
            "\n",
            "--- Phase 1: Training with frozen features ---\n",
            "Epoch 1/10 (Phase 1) - Train Loss: 0.6718, Train Acc: 0.6908 | Test Loss: 0.3395, Test Acc: 0.8669 | LR: 0.001000\n",
            "Epoch 2/10 (Phase 1) - Train Loss: 0.5180, Train Acc: 0.7410 | Test Loss: 0.2044, Test Acc: 0.9203 | LR: 0.001000\n",
            "Epoch 3/10 (Phase 1) - Train Loss: 0.4713, Train Acc: 0.7640 | Test Loss: 0.2129, Test Acc: 0.9132 | LR: 0.001000\n",
            "Epoch 4/10 (Phase 1) - Train Loss: 0.5026, Train Acc: 0.7529 | Test Loss: 0.2034, Test Acc: 0.9260 | LR: 0.001000\n",
            "Epoch 5/10 (Phase 1) - Train Loss: 0.4462, Train Acc: 0.7723 | Test Loss: 0.3657, Test Acc: 0.8797 | LR: 0.001000\n",
            "Epoch 6/10 (Phase 1) - Train Loss: 0.4745, Train Acc: 0.7528 | Test Loss: 0.3036, Test Acc: 0.8925 | LR: 0.001000\n",
            "Epoch 7/10 (Phase 1) - Train Loss: 0.4408, Train Acc: 0.7698 | Test Loss: 0.1709, Test Acc: 0.9416 | LR: 0.001000\n",
            "Epoch 8/10 (Phase 1) - Train Loss: 0.4247, Train Acc: 0.7732 | Test Loss: 0.2374, Test Acc: 0.9231 | LR: 0.001000\n",
            "Epoch 9/10 (Phase 1) - Train Loss: 0.4675, Train Acc: 0.7645 | Test Loss: 1.8892, Test Acc: 0.6050 | LR: 0.001000\n",
            "Epoch 10/10 (Phase 1) - Train Loss: 0.4313, Train Acc: 0.7654 | Test Loss: 0.1925, Test Acc: 0.9324 | LR: 0.001000\n",
            "\n",
            "--- Phase 2: Fine-tuning all layers ---\n",
            "All model layers are now trainable.\n",
            "Epoch 1/20 (Phase 2) - Train Loss: 0.4044, Train Acc: 0.7812 | Test Loss: 0.0924, Test Acc: 0.9673 | LR: 0.000010\n",
            "Epoch 2/20 (Phase 2) - Train Loss: 0.3849, Train Acc: 0.7930 | Test Loss: 0.0778, Test Acc: 0.9737 | LR: 0.000028\n",
            "Epoch 3/20 (Phase 2) - Train Loss: 0.3681, Train Acc: 0.7885 | Test Loss: 0.0589, Test Acc: 0.9786 | LR: 0.000052\n",
            "Epoch 4/20 (Phase 2) - Train Loss: 0.3758, Train Acc: 0.7898 | Test Loss: 0.0556, Test Acc: 0.9836 | LR: 0.000076\n",
            "Epoch 5/20 (Phase 2) - Train Loss: 0.3808, Train Acc: 0.7868 | Test Loss: 0.0841, Test Acc: 0.9715 | LR: 0.000094\n",
            "Epoch 6/20 (Phase 2) - Train Loss: 0.3672, Train Acc: 0.7882 | Test Loss: 0.0618, Test Acc: 0.9786 | LR: 0.000100\n",
            "Epoch 7/20 (Phase 2) - Train Loss: 0.3749, Train Acc: 0.7868 | Test Loss: 0.0761, Test Acc: 0.9744 | LR: 0.000099\n",
            "Epoch 8/20 (Phase 2) - Train Loss: 0.3583, Train Acc: 0.7928 | Test Loss: 0.0754, Test Acc: 0.9758 | LR: 0.000095\n",
            "Epoch 9/20 (Phase 2) - Train Loss: 0.3367, Train Acc: 0.8054 | Test Loss: 0.0567, Test Acc: 0.9794 | LR: 0.000089\n",
            "Epoch 10/20 (Phase 2) - Train Loss: 0.3502, Train Acc: 0.7998 | Test Loss: 0.0465, Test Acc: 0.9872 | LR: 0.000081\n",
            "Epoch 11/20 (Phase 2) - Train Loss: 0.3411, Train Acc: 0.7985 | Test Loss: 0.0758, Test Acc: 0.9751 | LR: 0.000072\n",
            "Epoch 12/20 (Phase 2) - Train Loss: 0.3266, Train Acc: 0.8044 | Test Loss: 0.0408, Test Acc: 0.9893 | LR: 0.000061\n",
            "Epoch 13/20 (Phase 2) - Train Loss: 0.3352, Train Acc: 0.7941 | Test Loss: 0.0300, Test Acc: 0.9915 | LR: 0.000050\n",
            "Epoch 14/20 (Phase 2) - Train Loss: 0.3233, Train Acc: 0.8038 | Test Loss: 0.0311, Test Acc: 0.9886 | LR: 0.000039\n",
            "Epoch 15/20 (Phase 2) - Train Loss: 0.3126, Train Acc: 0.8088 | Test Loss: 0.0369, Test Acc: 0.9858 | LR: 0.000028\n",
            "Epoch 16/20 (Phase 2) - Train Loss: 0.3216, Train Acc: 0.8070 | Test Loss: 0.0270, Test Acc: 0.9907 | LR: 0.000019\n",
            "Epoch 17/20 (Phase 2) - Train Loss: 0.3151, Train Acc: 0.8038 | Test Loss: 0.0273, Test Acc: 0.9900 | LR: 0.000011\n",
            "Epoch 18/20 (Phase 2) - Train Loss: 0.3034, Train Acc: 0.8099 | Test Loss: 0.0243, Test Acc: 0.9922 | LR: 0.000005\n",
            "Epoch 19/20 (Phase 2) - Train Loss: 0.3176, Train Acc: 0.8022 | Test Loss: 0.0235, Test Acc: 0.9929 | LR: 0.000001\n",
            "Epoch 20/20 (Phase 2) - Train Loss: 0.3174, Train Acc: 0.8099 | Test Loss: 0.0243, Test Acc: 0.9922 | LR: 0.000000\n",
            "\n",
            "Training completed!\n",
            "Final Train Loss: 0.3174, Final Train Accuracy: 0.8099\n",
            "Final Test Loss: 0.0243, Final Test Accuracy: 0.9922\n",
            "\n",
            "--- Final Evaluation on Test Set ---\n",
            "\n",
            "--- Classification Report ---\n",
            "              precision    recall  f1-score   support\n",
            "\n",
            "      glioma       0.99      0.99      0.99       324\n",
            "     healthy       1.00      1.00      1.00       400\n",
            "  meningioma       0.99      0.98      0.98       329\n",
            "   pituitary       0.99      1.00      0.99       352\n",
            "\n",
            "    accuracy                           0.99      1405\n",
            "   macro avg       0.99      0.99      0.99      1405\n",
            "weighted avg       0.99      0.99      0.99      1405\n",
            "\n",
            "\n",
            "--- Confusion Matrix ---\n"
          ]
        },
        {
          "data": {
            "image/png": "[encoded data removed]",
            "text/plain": [
              "<Figure size 800x800 with 2 Axes>"
            ]
          },
          "metadata": {},
          "output_type": "display_data"
        },
        {
          "name": "stdout",
          "output_type": "stream",
          "text": [
            "\n",
            "--- Per-Class Accuracies ---\n",
            "Class 'glioma' (324 samples): 0.9877\n",
            "Class 'healthy' (400 samples): 1.0000\n",
            "Class 'meningioma' (329 samples): 0.9818\n",
            "Class 'pituitary' (352 samples): 0.9972\n"
          ]
        },
        {
          "data": {
            "image/png": "[encoded data removed]",
            "text/plain": [
              "<Figure size 1200x500 with 2 Axes>"
            ]
          },
          "metadata": {},
          "output_type": "display_data"
        }
      ],
      "source": [
        "train_losses = []\n",
        "train_accuracies = []\n",
        "test_losses = []\n",
        "test_accuracies = []\n",
        "\n",
        "# --- Phase 1: Feature Extraction (Frozen Backbone) ---\n",
        "print(\"\\n--- Phase 1: Training with frozen features ---\")\n",
        "NUM_EPOCHS_PHASE1 = 10 # Start with a few epochs for this phase\n",
        "\n",
        "# Optimizer for only the trainable parameters (fc and conv1)\n",
        "optimizer_phase1 = torch.optim.Adam(\n",
        "    filter(lambda p: p.requires_grad, model.parameters()),\n",
        "    lr=0.001, # Higher LR for new layers\n",
        "    weight_decay=0.001\n",
        ")\n",
        "# Scheduler for Phase 1 (optional, can be fixed LR)\n",
        "# Using ReduceLROnPlateau based on test_loss (which we will compute inside the loop)\n",
        "scheduler_phase1 = lr_scheduler.ReduceLROnPlateau(optimizer_phase1, mode='min', factor=0.1, patience=3)\n",
        "\n",
        "for epoch in range(NUM_EPOCHS_PHASE1):\n",
        "    model.train() # Set model to training mode\n",
        "    running_loss = 0.0\n",
        "    correct_predictions = 0\n",
        "\n",
        "    for images, labels in train_loader:\n",
        "        images = images.to(device)\n",
        "        labels = labels.to(device)\n",
        "\n",
        "        optimizer_phase1.zero_grad()\n",
        "        outputs = model(images)\n",
        "        loss = criterion(outputs, labels)\n",
        "        loss.backward()\n",
        "        optimizer_phase1.step()\n",
        "        # No scheduler.step() per batch for OneCycleLR here unless you explicitly want that behavior.\n",
        "        # For ReduceLROnPlateau, you step per epoch with validation loss.\n",
        "\n",
        "        running_loss += loss.item()\n",
        "        _, predicted = torch.max(outputs.data, 1)\n",
        "        correct_predictions += (predicted == labels).sum().item()\n",
        "\n",
        "    epoch_train_loss = running_loss / len(train_loader)\n",
        "    epoch_train_accuracy = correct_predictions / len(train_loader.dataset)\n",
        "\n",
        "    # Evaluate on test set after each epoch in Phase 1\n",
        "    epoch_test_loss, epoch_test_accuracy, _, _ = evaluate(model, test_loader, criterion, device, class_names)\n",
        "    scheduler_phase1.step(epoch_test_loss) # Step based on test loss\n",
        "\n",
        "    train_losses.append(epoch_train_loss)\n",
        "    train_accuracies.append(epoch_train_accuracy)\n",
        "    test_losses.append(epoch_test_loss)\n",
        "    test_accuracies.append(epoch_test_accuracy)\n",
        "\n",
        "    print(f\"Epoch {epoch+1}/{NUM_EPOCHS_PHASE1} (Phase 1) - \"\n",
        "          f\"Train Loss: {epoch_train_loss:.4f}, Train Acc: {epoch_train_accuracy:.4f} | \"\n",
        "          f\"Test Loss: {epoch_test_loss:.4f}, Test Acc: {epoch_test_accuracy:.4f} | \"\n",
        "          f\"LR: {optimizer_phase1.param_groups[0]['lr']:.6f}\")\n",
        "\n",
        "# --- Phase 2: Fine-tuning (Unfrozen Backbone) ---\n",
        "print(\"\\n--- Phase 2: Fine-tuning all layers ---\")\n",
        "NUM_EPOCHS_PHASE2 = 20 # Can be more epochs for fine-tuning\n",
        "\n",
        "# Unfreeze all parameters\n",
        "for param in model.parameters():\n",
        "    param.requires_grad = True\n",
        "print(\"All model layers are now trainable.\")\n",
        "\n",
        "# Re-initialize optimizer for all parameters with a much smaller LR\n",
        "optimizer_phase2 = torch.optim.Adam(model.parameters(), lr=1e-5, weight_decay=0.001) # Very small LR\n",
        "# Using OneCycleLR here can be good for fine-tuning, but ensure total_steps is correct\n",
        "total_steps_phase2 = NUM_EPOCHS_PHASE2 * len(train_loader)\n",
        "scheduler_phase2 = lr_scheduler.OneCycleLR(optimizer_phase2, max_lr=1e-4, total_steps=total_steps_phase2) # Experiment with max_lr for phase 2\n",
        "\n",
        "for epoch in range(NUM_EPOCHS_PHASE2):\n",
        "    model.train() # Set model to training mode\n",
        "    running_loss = 0.0\n",
        "    correct_predictions = 0\n",
        "\n",
        "    for images, labels in train_loader:\n",
        "        images = images.to(device)\n",
        "        labels = labels.to(device)\n",
        "\n",
        "        optimizer_phase2.zero_grad()\n",
        "        outputs = model(images)\n",
        "        loss = criterion(outputs, labels)\n",
        "        loss.backward()\n",
        "        optimizer_phase2.step()\n",
        "        scheduler_phase2.step() # OneCycleLR steps per batch\n",
        "\n",
        "        running_loss += loss.item()\n",
        "        _, predicted = torch.max(outputs.data, 1)\n",
        "        correct_predictions += (predicted == labels).sum().item()\n",
        "\n",
        "    epoch_train_loss = running_loss / len(train_loader)\n",
        "    epoch_train_accuracy = correct_predictions / len(train_loader.dataset)\n",
        "\n",
        "    # Evaluate on test set after each epoch in Phase 2\n",
        "    epoch_test_loss, epoch_test_accuracy, _, _ = evaluate(model, test_loader, criterion, device, class_names)\n",
        "\n",
        "    train_losses.append(epoch_train_loss)\n",
        "    train_accuracies.append(epoch_train_accuracy)\n",
        "    test_losses.append(epoch_test_loss)\n",
        "    test_accuracies.append(epoch_test_accuracy)\n",
        "\n",
        "    print(f\"Epoch {epoch+1}/{NUM_EPOCHS_PHASE2} (Phase 2) - \"\n",
        "          f\"Train Loss: {epoch_train_loss:.4f}, Train Acc: {epoch_train_accuracy:.4f} | \"\n",
        "          f\"Test Loss: {epoch_test_loss:.4f}, Test Acc: {epoch_test_accuracy:.4f} | \"\n",
        "          f\"LR: {optimizer_phase2.param_groups[0]['lr']:.6f}\")\n",
        "\n",
        "print(\"\\nTraining completed!\")\n",
        "print(f\"Final Train Loss: {train_losses[-1]:.4f}, Final Train Accuracy: {train_accuracies[-1]:.4f}\")\n",
        "print(f\"Final Test Loss: {test_losses[-1]:.4f}, Final Test Accuracy: {test_accuracies[-1]:.4f}\")\n",
        "\n",
        "# Call evaluate one last time to get the full report and confusion matrix\n",
        "print(\"\\n--- Final Evaluation on Test Set ---\")\n",
        "test_loss_final, test_accuracy_final, all_labels_final, all_predictions_final = evaluate(model, test_loader, criterion, device, class_names)\n",
        "\n",
        "print(\"\\n--- Classification Report ---\")\n",
        "print(classification_report(all_labels_final, all_predictions_final, target_names=class_names))\n",
        "\n",
        "print(\"\\n--- Confusion Matrix ---\")\n",
        "cm = confusion_matrix(all_labels_final, all_predictions_final)\n",
        "disp = ConfusionMatrixDisplay(confusion_matrix=cm, display_labels=class_names)\n",
        "fig, ax = plt.subplots(figsize=(8, 8))\n",
        "disp.plot(cmap=plt.cm.Blues, ax=ax, xticks_rotation='vertical')\n",
        "plt.title('Confusion Matrix')\n",
        "plt.show()\n",
        "\n",
        "print(\"\\n--- Per-Class Accuracies ---\")\n",
        "from collections import Counter\n",
        "true_counts = Counter(all_labels_final)\n",
        "for i, class_name in enumerate(class_names):\n",
        "    class_indices = np.where(np.array(all_labels_final) == i)[0]\n",
        "    if len(class_indices) == 0:\n",
        "        print(f\"Class '{class_name}': No samples found in test set.\")\n",
        "        continue\n",
        "    class_predictions = np.array(all_predictions_final)[class_indices]\n",
        "    class_true_labels = np.array(all_labels_final)[class_indices]\n",
        "    class_correct = (class_predictions == class_true_labels).sum()\n",
        "    class_accuracy = class_correct / len(class_indices)\n",
        "    print(f\"Class '{class_name}' ({len(class_indices)} samples): {class_accuracy:.4f}\")\n",
        "\n",
        "# Plotting the results (adjusted to plot both train and test)\n",
        "plt.figure(figsize=(12, 5))\n",
        "plt.subplot(1, 2, 1)\n",
        "plt.plot(train_losses, label='Train Loss')\n",
        "plt.plot(test_losses, label='Test Loss')\n",
        "plt.title('Loss over Epochs')\n",
        "plt.xlabel('Epoch')\n",
        "plt.ylabel('Loss')\n",
        "plt.legend()\n",
        "\n",
        "plt.subplot(1, 2, 2)\n",
        "plt.plot(train_accuracies, label='Train Accuracy')\n",
        "plt.plot(test_accuracies, label='Test Accuracy')\n",
        "plt.title('Accuracy over Epochs')\n",
        "plt.xlabel('Epoch')\n",
        "plt.ylabel('Accuracy')\n",
        "plt.legend()\n",
        "plt.show()"
      ]
    }
  ],
  "metadata": {
    "accelerator": "GPU",
    "colab": {
      "gpuType": "T4",
      "provenance": []
    },
    "kernelspec": {
      "display_name": "Python 3",
      "name": "python3"
    },
    "language_info": {
      "name": "python"
    }
  },
  "nbformat": 4,
  "nbformat_minor": 0
}
